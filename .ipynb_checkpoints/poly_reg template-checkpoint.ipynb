{
 "cells": [
  {
   "cell_type": "code",
   "execution_count": null,
   "metadata": {},
   "outputs": [],
   "source": [
    "import numpy as np\n",
    "import matplotlib.pyplot as plt\n",
    "import pandas as pd\n",
    "\n",
    "dataset=pd.read_csv('/Users/Aayushi/Desktop/ML/Regression/Polynomial_Regression/Position_Salaries.csv')\n",
    "x=dataset.iloc[:,1:2].values #we take x as a matrix so we take index as 1:@ instead of 1\n",
    "y=dataset.iloc[:,2].values\n",
    "x,y,dataset\n",
    "#x is a coloumn #y is a vector\n",
    "#we are building a bluffing model to see check the apt salary for diff levels given\n",
    "#we want max. accuracy so we don't divide our test and training set here\n",
    "\n",
    "#fitting polynomial reg model to the dataset\n",
    "\n",
    "#predicting a new result with polynomial reg \n",
    "y_pred= regressor.predict(6.5)\n",
    "\n",
    "#visualising the poly reg results\n",
    "#we can't use x_poly in place of x in plot func\n",
    "#we use the whole fit_transform as we can make any changes in the data easily from here\n",
    "#x_grid = np.arrange(min(x),max(x),0.1)\n",
    "#x_grid= x_grid.reshape((len(x_grid),1)) reshaping the curve into cont curve\n",
    "plt.scatter(x,y,color='red')\n",
    "plt.plot(x, regressor.predict(x),color='blue')\n",
    "plt.title('Truth or Bluff (Polynomial regression)')\n",
    "plt.xlabel('position level')\n",
    "plt.ylabel('salaries')"
   ]
  }
 ],
 "metadata": {
  "kernelspec": {
   "display_name": "Python 3",
   "language": "python",
   "name": "python3"
  },
  "language_info": {
   "codemirror_mode": {
    "name": "ipython",
    "version": 3
   },
   "file_extension": ".py",
   "mimetype": "text/x-python",
   "name": "python",
   "nbconvert_exporter": "python",
   "pygments_lexer": "ipython3",
   "version": "3.6.3"
  }
 },
 "nbformat": 4,
 "nbformat_minor": 2
}
